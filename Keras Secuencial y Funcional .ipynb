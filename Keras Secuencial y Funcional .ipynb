{
 "cells": [
  {
   "cell_type": "markdown",
   "metadata": {},
   "source": [
    "# Keras Secuencial y Funcional \n"
   ]
  },
  {
   "cell_type": "markdown",
   "metadata": {},
   "source": [
    "### Conjunto de datos"
   ]
  },
  {
   "cell_type": "code",
   "execution_count": 11,
   "metadata": {},
   "outputs": [
    {
     "name": "stdout",
     "output_type": "stream",
     "text": [
      "Forma de X (768, 8)\n",
      "Forma de Y (768,)\n",
      "[  6.    148.     72.     35.      0.     33.6     0.627  50.   ]\n",
      "1.0\n"
     ]
    }
   ],
   "source": [
    "import numpy as np\n",
    "dataset = np.loadtxt(\"pima-indians-diabetes.csv\", delimiter=\",\")\n",
    "\n",
    "# X caracterítsticas, Y labels\n",
    "X = dataset[:,0:8]\n",
    "Y = dataset[:,8]\n",
    "\n",
    "print(\"Forma de X\", X.shape)\n",
    "print(\"Forma de Y\", Y.shape)\n",
    "print(X[0,:])\n",
    "print(Y[0])"
   ]
  },
  {
   "cell_type": "markdown",
   "metadata": {},
   "source": [
    "# Secuencial"
   ]
  },
  {
   "cell_type": "markdown",
   "metadata": {},
   "source": [
    "### Usando .add()"
   ]
  },
  {
   "cell_type": "code",
   "execution_count": 3,
   "metadata": {},
   "outputs": [
    {
     "name": "stderr",
     "output_type": "stream",
     "text": [
      "Using TensorFlow backend.\n"
     ]
    }
   ],
   "source": [
    "from keras.layers import Dense\n",
    "from keras.models import Sequential\n",
    "\n",
    "# creación\n",
    "model = Sequential()\n",
    "model.add(Dense(12, input_dim=8, activation='relu'))\n",
    "model.add(Dense(8, activation='relu'))\n",
    "model.add(Dense(1, activation='sigmoid'))"
   ]
  },
  {
   "cell_type": "code",
   "execution_count": 5,
   "metadata": {},
   "outputs": [],
   "source": [
    "from keras.layers import Dense,Activation\n",
    "from keras.models import Sequential\n",
    "\n",
    "model = Sequential()\n",
    "model.add(Dense(12, input_dim = 8))\n",
    "model.add(Activation(\"relu\"))\n",
    "model.add(Dense(8))\n",
    "model.add(Activation(\"relu\"))\n",
    "model.add(Dense(1))\n",
    "model.add(Activation(\"sigmoid\"))"
   ]
  },
  {
   "cell_type": "markdown",
   "metadata": {},
   "source": [
    "### Usando una lista "
   ]
  },
  {
   "cell_type": "code",
   "execution_count": 6,
   "metadata": {},
   "outputs": [],
   "source": [
    "from keras.layers import Dense\n",
    "from keras.models import Sequential\n",
    "model = Sequential([\n",
    "    Dense(12, input_dim = 8, activation =\"relu\"),\n",
    "    Dense(8, activation= \"relu\"),\n",
    "    Dense(1, activation = \"sigmoid\"),\n",
    "    ])"
   ]
  },
  {
   "cell_type": "code",
   "execution_count": null,
   "metadata": {},
   "outputs": [],
   "source": [
    "from keras.layers import Dense,Activation\n",
    "from keras.models import Sequential\n",
    "\n",
    "\n",
    "model = Sequential([\n",
    "    Dense(12, input_dim = 8),\n",
    "    Activation(\"relu\"),\n",
    "    Dense(8),\n",
    "    Activation(\"relu\"),\n",
    "    Dense(1),\n",
    "    Activation(\"sigmoid\")\n",
    "])"
   ]
  },
  {
   "cell_type": "markdown",
   "metadata": {},
   "source": [
    "# Funcional"
   ]
  },
  {
   "cell_type": "code",
   "execution_count": null,
   "metadata": {},
   "outputs": [],
   "source": [
    "from keras.layers import Dense, Input\n",
    "from keras.models import Model\n",
    "\n",
    "I = Input(shape=(8,))\n",
    "L = Dense(units = 12,activation =\"relu\")(I)\n",
    "L = Dense(units = 8, activation = \"relu\")(L)\n",
    "salida = Dense(units = 1, activation = \"sigmoid\")(L)\n",
    "\n",
    "\n",
    "model = Model(inputs = I, outputs= salida )"
   ]
  },
  {
   "cell_type": "code",
   "execution_count": null,
   "metadata": {},
   "outputs": [],
   "source": [
    "from keras.layers import Dense, Input, Activation\n",
    "from keras.models import Model\n",
    "\n",
    "I = Input(shape=(8,))\n",
    "L = Dense(units = 12)(I)\n",
    "L = Activation(\"relu\")(L)\n",
    "L = Dense(units = 8)(L)\n",
    "L = Activation(\"relu\")(L)\n",
    "L = Dense(units = 1)(L)\n",
    "salida = Activation('sigmoid')(L)\n",
    "\n",
    "model = Model(inputs = I, outputs= salida )"
   ]
  },
  {
   "cell_type": "code",
   "execution_count": null,
   "metadata": {},
   "outputs": [],
   "source": [
    "from keras.layers import Dense, Input\n",
    "from keras.models import Model\n",
    "\n",
    "I = Input(shape = (8,))\n",
    "\n",
    "densa12 =Dense(12,activation= \"relu\")\n",
    "densa8 = Dense(8, activation =\"relu\")\n",
    "salida = Dense(1,activation =\"sigmoid\")\n",
    "\n",
    "predicciones = salida(densa8(densa12(I)))\n",
    "\n",
    "model  = Model(inputs = I, outputs = predicciones)"
   ]
  },
  {
   "cell_type": "markdown",
   "metadata": {},
   "source": [
    "# Compilación, Entrenamiento y Evaluación"
   ]
  },
  {
   "cell_type": "code",
   "execution_count": 12,
   "metadata": {},
   "outputs": [
    {
     "name": "stdout",
     "output_type": "stream",
     "text": [
      "Epoch 1/50\n",
      "768/768 [==============================] - 2s 3ms/step - loss: 10.3525 - acc: 0.3490\n",
      "Epoch 2/50\n",
      "768/768 [==============================] - 0s 83us/step - loss: 10.3251 - acc: 0.3490\n",
      "Epoch 3/50\n",
      "768/768 [==============================] - 0s 71us/step - loss: 9.7853 - acc: 0.3490\n",
      "Epoch 4/50\n",
      "768/768 [==============================] - 0s 84us/step - loss: 4.0788 - acc: 0.3503\n",
      "Epoch 5/50\n",
      "768/768 [==============================] - 0s 75us/step - loss: 0.9528 - acc: 0.4674\n",
      "Epoch 6/50\n",
      "768/768 [==============================] - 0s 75us/step - loss: 0.7674 - acc: 0.6276\n",
      "Epoch 7/50\n",
      "768/768 [==============================] - 0s 77us/step - loss: 0.7066 - acc: 0.6406\n",
      "Epoch 8/50\n",
      "768/768 [==============================] - 0s 82us/step - loss: 0.6813 - acc: 0.6536\n",
      "Epoch 9/50\n",
      "768/768 [==============================] - 0s 73us/step - loss: 0.6720 - acc: 0.6589\n",
      "Epoch 10/50\n",
      "768/768 [==============================] - 0s 86us/step - loss: 0.6660 - acc: 0.6602\n",
      "Epoch 11/50\n",
      "768/768 [==============================] - 0s 88us/step - loss: 0.6653 - acc: 0.6523\n",
      "Epoch 12/50\n",
      "768/768 [==============================] - 0s 74us/step - loss: 0.6588 - acc: 0.6615\n",
      "Epoch 13/50\n",
      "768/768 [==============================] - 0s 74us/step - loss: 0.6556 - acc: 0.6706\n",
      "Epoch 14/50\n",
      "768/768 [==============================] - 0s 83us/step - loss: 0.6515 - acc: 0.6667\n",
      "Epoch 15/50\n",
      "768/768 [==============================] - 0s 88us/step - loss: 0.6483 - acc: 0.6628\n",
      "Epoch 16/50\n",
      "768/768 [==============================] - 0s 86us/step - loss: 0.6454 - acc: 0.6654\n",
      "Epoch 17/50\n",
      "768/768 [==============================] - 0s 82us/step - loss: 0.6419 - acc: 0.6602\n",
      "Epoch 18/50\n",
      "768/768 [==============================] - 0s 81us/step - loss: 0.6400 - acc: 0.6576\n",
      "Epoch 19/50\n",
      "768/768 [==============================] - 0s 82us/step - loss: 0.6382 - acc: 0.6654\n",
      "Epoch 20/50\n",
      "768/768 [==============================] - 0s 79us/step - loss: 0.6357 - acc: 0.6602\n",
      "Epoch 21/50\n",
      "768/768 [==============================] - 0s 84us/step - loss: 0.6336 - acc: 0.6589\n",
      "Epoch 22/50\n",
      "768/768 [==============================] - 0s 83us/step - loss: 0.6323 - acc: 0.6602\n",
      "Epoch 23/50\n",
      "768/768 [==============================] - 0s 81us/step - loss: 0.6338 - acc: 0.6706\n",
      "Epoch 24/50\n",
      "768/768 [==============================] - 0s 83us/step - loss: 0.6314 - acc: 0.6589\n",
      "Epoch 25/50\n",
      "768/768 [==============================] - 0s 74us/step - loss: 0.6277 - acc: 0.6693\n",
      "Epoch 26/50\n",
      "768/768 [==============================] - 0s 87us/step - loss: 0.6263 - acc: 0.6732\n",
      "Epoch 27/50\n",
      "768/768 [==============================] - 0s 90us/step - loss: 0.6271 - acc: 0.6589\n",
      "Epoch 28/50\n",
      "768/768 [==============================] - 0s 83us/step - loss: 0.6235 - acc: 0.6641\n",
      "Epoch 29/50\n",
      "768/768 [==============================] - 0s 78us/step - loss: 0.6211 - acc: 0.6732\n",
      "Epoch 30/50\n",
      "768/768 [==============================] - 0s 83us/step - loss: 0.6193 - acc: 0.6745\n",
      "Epoch 31/50\n",
      "768/768 [==============================] - 0s 86us/step - loss: 0.6166 - acc: 0.6745\n",
      "Epoch 32/50\n",
      "768/768 [==============================] - 0s 87us/step - loss: 0.6160 - acc: 0.6771\n",
      "Epoch 33/50\n",
      "768/768 [==============================] - 0s 90us/step - loss: 0.6138 - acc: 0.6810\n",
      "Epoch 34/50\n",
      "768/768 [==============================] - 0s 82us/step - loss: 0.6140 - acc: 0.6810\n",
      "Epoch 35/50\n",
      "768/768 [==============================] - 0s 81us/step - loss: 0.6115 - acc: 0.6771\n",
      "Epoch 36/50\n",
      "768/768 [==============================] - 0s 92us/step - loss: 0.6102 - acc: 0.6758\n",
      "Epoch 37/50\n",
      "768/768 [==============================] - 0s 87us/step - loss: 0.6090 - acc: 0.6732\n",
      "Epoch 38/50\n",
      "768/768 [==============================] - 0s 82us/step - loss: 0.6099 - acc: 0.6784\n",
      "Epoch 39/50\n",
      "768/768 [==============================] - 0s 73us/step - loss: 0.6118 - acc: 0.6693\n",
      "Epoch 40/50\n",
      "768/768 [==============================] - 0s 74us/step - loss: 0.6094 - acc: 0.6901\n",
      "Epoch 41/50\n",
      "768/768 [==============================] - 0s 73us/step - loss: 0.6058 - acc: 0.6758\n",
      "Epoch 42/50\n",
      "768/768 [==============================] - 0s 71us/step - loss: 0.6059 - acc: 0.6836\n",
      "Epoch 43/50\n",
      "768/768 [==============================] - 0s 81us/step - loss: 0.6052 - acc: 0.6849\n",
      "Epoch 44/50\n",
      "768/768 [==============================] - 0s 73us/step - loss: 0.6042 - acc: 0.6992\n",
      "Epoch 45/50\n",
      "768/768 [==============================] - 0s 81us/step - loss: 0.6019 - acc: 0.6914\n",
      "Epoch 46/50\n",
      "768/768 [==============================] - 0s 87us/step - loss: 0.6028 - acc: 0.6823\n",
      "Epoch 47/50\n",
      "768/768 [==============================] - 0s 86us/step - loss: 0.6028 - acc: 0.6966\n",
      "Epoch 48/50\n",
      "768/768 [==============================] - 0s 86us/step - loss: 0.6037 - acc: 0.6849\n",
      "Epoch 49/50\n",
      "768/768 [==============================] - 0s 90us/step - loss: 0.5997 - acc: 0.7005\n",
      "Epoch 50/50\n",
      "768/768 [==============================] - 0s 70us/step - loss: 0.5986 - acc: 0.6888\n",
      "768/768 [==============================] - 0s 103us/step\n",
      "\n",
      "acc: 69.40%\n"
     ]
    }
   ],
   "source": [
    "# compilanción\n",
    "model.compile(loss='binary_crossentropy', optimizer='adam', metrics=['accuracy'])\n",
    "\n",
    "# entrenamiento\n",
    "model.fit(X, Y, epochs=50, batch_size=50)\n",
    "\n",
    "# evaluación\n",
    "scores = model.evaluate(X, Y)\n",
    "print(\"\\n%s: %.2f%%\" % (model.metrics_names[1], scores[1]*100))"
   ]
  }
 ],
 "metadata": {
  "kernelspec": {
   "display_name": "tensorflow1.9",
   "language": "python",
   "name": "tensorflow1.9"
  },
  "language_info": {
   "codemirror_mode": {
    "name": "ipython",
    "version": 3
   },
   "file_extension": ".py",
   "mimetype": "text/x-python",
   "name": "python",
   "nbconvert_exporter": "python",
   "pygments_lexer": "ipython3",
   "version": "3.5.5"
  }
 },
 "nbformat": 4,
 "nbformat_minor": 2
}
